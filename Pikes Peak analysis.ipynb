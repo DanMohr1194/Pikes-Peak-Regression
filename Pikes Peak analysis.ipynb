{
 "cells": [
  {
   "cell_type": "markdown",
   "id": "ad8eadad",
   "metadata": {},
   "source": [
    "# Pikes Peak Split Prediction"
   ]
  },
  {
   "cell_type": "markdown",
   "id": "7eb93921",
   "metadata": {},
   "source": [
    "Many runners set a goal time for themselves in races and will try to keep certain \"splits\" in order to ensure that they will make it across the finish line within the target. For example, someone trying to run a 3 hour marathon will want to reach the 13 mile point around 90 minutes. This becomes a unique challenge for the Pikes Peak Marathon in Manitou Springs, Colorado because the terrain on the course (consisting of 7800 ft. of elevation gain) and high elevation make it unlike any other race of that distance. This forces us to rely on empirical data to know when to reach the various aid stations in order to summit by a specific time.\n",
    "\n",
    "The organizers of the race kindly provide the data from each edition in csv format, so here we are working with the results of the 2022 marathon. Note that initially these times are all strings, and in order to perform a regression we must convert them to floats."
   ]
  },
  {
   "cell_type": "code",
   "execution_count": 2,
   "id": "962e2db2",
   "metadata": {},
   "outputs": [],
   "source": [
    "import pandas as pd\n",
    "import numpy as np\n",
    "import matplotlib.pyplot as plt\n",
    "from sklearn import linear_model\n",
    "import datetime as dt\n",
    "\n",
    "#getting the data\n",
    "time_table = pd.read_csv('Pikes Peak Marathon Results September 18, 2022.csv')\n",
    "time_table = time_table.drop('Unnamed: 0', axis = 1)\n",
    "time_table.columns = [\"OA#\",\"SEX#\",\"AG#\",\"Bib\",\"Age\",\"Sex\",\"AG\",\"Name\",\n",
    "                       \"First\",\"Middle\",\"Last\",\"City\",\"ST\",\"Country\",\n",
    "                       \"Ws\",\"NoName\",\"Barr Camp\",\"A-Frame\",\"Summit\",\n",
    "                       \"A-Frame down\",\"Barr Camp down\",\"NoName down\",\"Ws down\",\n",
    "                       \"Ascent\",\"Descent\",\"Finish\",\"Gun\",\"Pace\"]\n",
    "#getting a list of columns with time\n",
    "time_cols = [\"Ws\",\"NoName\",\"Barr Camp\",\"A-Frame\",\"Summit\",\n",
    "            \"A-Frame down\",\"Barr Camp down\",\"NoName down\",\"Ws down\",\n",
    "            \"Ascent\",\"Descent\",\"Finish\"]\n",
    "#converting these columns to float\n",
    "time_table[time_cols] = time_table[time_cols].apply(pd.to_timedelta)\n",
    "time_table[time_cols] = time_table[time_cols].apply(lambda x: x.dt.total_seconds() / 60.0)\n",
    "#np array of all the summit times, will be used later\n",
    "summit_arr = time_table['Summit'].to_numpy()"
   ]
  },
  {
   "cell_type": "markdown",
   "id": "f1268582",
   "metadata": {},
   "source": [
    "With these data, we can write functions that will plot summit time vs. aid station time for any of the stations that had chip timing (Top of Ws, No Name Creek, Barr Camp, and A-Frame)."
   ]
  },
  {
   "cell_type": "code",
   "execution_count": 3,
   "id": "2a874af5",
   "metadata": {},
   "outputs": [],
   "source": [
    "#getting the aid station and summit times for a station\n",
    "def station_times(station_name):\n",
    "    station_table = time_table[[station_name, 'Summit']]\n",
    "    station_table = station_table.dropna().reset_index(drop='True')\n",
    "    return station_table\n",
    "\n",
    "def station_regression(station_name):\n",
    "    #getting the data ready\n",
    "    station_table = station_times(station_name)\n",
    "    station_arr = station_table[station_name].to_numpy()\n",
    "    station_arr = np.reshape(station_arr, (-1,1))\n",
    "    summit_arr = station_table['Summit'].to_numpy()\n",
    "    #running the regression\n",
    "    model = linear_model.LinearRegression()\n",
    "    model.fit(station_arr, summit_arr)\n",
    "    summit_pred = model.predict(station_arr)\n",
    "    return summit_pred"
   ]
  },
  {
   "cell_type": "markdown",
   "id": "6c83de57",
   "metadata": {},
   "source": [
    "And now actually plotting this for Top of Ws, where the blue scatter plot represents actual runner times while the red line is a linear regression made using scikit-learn."
   ]
  },
  {
   "cell_type": "code",
   "execution_count": 5,
   "id": "9996ce6a",
   "metadata": {},
   "outputs": [
    {
     "data": {
      "text/plain": [
       "[<matplotlib.lines.Line2D at 0x1a9705e1fd0>]"
      ]
     },
     "execution_count": 5,
     "metadata": {},
     "output_type": "execute_result"
    },
    {
     "data": {
      "image/png": "[encoded data removed]",
      "text/plain": [
       "<Figure size 432x288 with 1 Axes>"
      ]
     },
     "metadata": {
      "needs_background": "light"
     },
     "output_type": "display_data"
    }
   ],
   "source": [
    "ws_table = station_times('Ws')\n",
    "ws_reg = station_regression('Ws')\n",
    "ws_arr = ws_table['Ws'].to_numpy()\n",
    "ws_summit = ws_table['Summit'].to_numpy()\n",
    "\n",
    "plt.xlabel('Ws')\n",
    "plt.ylabel('Summit')\n",
    "plt.grid()\n",
    "plt.scatter(ws_arr, ws_summit, marker='.')\n",
    "plt.plot(ws_arr, ws_reg, color='red')"
   ]
  },
  {
   "cell_type": "markdown",
   "id": "284b0bc1",
   "metadata": {},
   "source": [
    "Similarly, we can estimate the times someone should reach a certain aid station by using a similar regression (with the summit time becoming the independent variable and aid station time becoming dependent). First, we need to set a target summit time in minutes."
   ]
  },
  {
   "cell_type": "code",
   "execution_count": 6,
   "id": "a8854d2c",
   "metadata": {},
   "outputs": [],
   "source": [
    "summit_goal = 240"
   ]
  },
  {
   "cell_type": "markdown",
   "id": "a9a46b47",
   "metadata": {},
   "source": [
    "Now with that, we can put together a function for the regression that outputs the time one needs to reach the aid station around in order to succeed in their goal. "
   ]
  },
  {
   "cell_type": "code",
   "execution_count": 7,
   "id": "ffe33e41",
   "metadata": {},
   "outputs": [],
   "source": [
    "def station_prediction(station_name, summit_time):\n",
    "    #getting the data ready\n",
    "    station_table = station_times(station_name)\n",
    "    station_arr = station_table[station_name].to_numpy()\n",
    "    summit_arr = station_table['Summit'].to_numpy()\n",
    "    summit_arr = np.reshape(summit_arr, (-1,1))\n",
    "    #running the regression\n",
    "    model = linear_model.LinearRegression()\n",
    "    model.fit(summit_arr, station_arr)\n",
    "    station_pred = model.predict([[summit_time]])\n",
    "    return station_pred[0]"
   ]
  },
  {
   "cell_type": "markdown",
   "id": "b972e0de",
   "metadata": {},
   "source": [
    "This can be utilized on all of the aforementioned timed aid stations (Top of Ws, No Name Creek, Barr Camp, A-Frame)."
   ]
  },
  {
   "cell_type": "code",
   "execution_count": 10,
   "id": "50daa0c6",
   "metadata": {},
   "outputs": [
    {
     "name": "stdout",
     "output_type": "stream",
     "text": [
      "Estimated aid station target times (minutes):\n",
      "Top of Ws: 42.52\n",
      "No Name Creek: 62.64\n",
      "Barr Camp: 110.62\n",
      "A-Frame: 162.76\n"
     ]
    }
   ],
   "source": [
    "ws_goal = station_prediction('Ws', summit_goal)\n",
    "noname_goal = station_prediction('NoName', summit_goal)\n",
    "barr_goal = station_prediction('Barr Camp', summit_goal)\n",
    "aframe_goal = station_prediction('A-Frame', summit_goal)\n",
    "\n",
    "print('Estimated aid station target times (minutes):')\n",
    "print('Top of Ws: %.2f'% ws_goal)\n",
    "print('No Name Creek: %.2f'% noname_goal)\n",
    "print('Barr Camp: %.2f'% barr_goal)\n",
    "print('A-Frame: %.2f'% aframe_goal)"
   ]
  },
  {
   "cell_type": "markdown",
   "id": "575380a3",
   "metadata": {},
   "source": [
    "It should be noted that these data are based on the 2022 marathon results, they may vary from year to year and between the marathon and ascent."
   ]
  },
  {
   "cell_type": "code",
   "execution_count": null,
   "id": "ef8309c4",
   "metadata": {},
   "outputs": [],
   "source": []
  }
 ],
 "metadata": {
  "kernelspec": {
   "display_name": "Python 3 (ipykernel)",
   "language": "python",
   "name": "python3"
  },
  "language_info": {
   "codemirror_mode": {
    "name": "ipython",
    "version": 3
   },
   "file_extension": ".py",
   "mimetype": "text/x-python",
   "name": "python",
   "nbconvert_exporter": "python",
   "pygments_lexer": "ipython3",
   "version": "3.9.12"
  }
 },
 "nbformat": 4,
 "nbformat_minor": 5
}
